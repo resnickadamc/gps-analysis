{
 "cells": [
  {
   "cell_type": "markdown",
   "metadata": {},
   "source": [
    "# GPS Fitness Analysis - From Garmin Fenix 5 and GPX Files"
   ]
  },
  {
   "cell_type": "code",
   "execution_count": null,
   "metadata": {},
   "outputs": [],
   "source": [
    "import matplotlib as plt\n",
    "import numpy as np\n",
    "import pandas as pd\n",
    "import gpxpy\n",
    "import datetime\n",
    "from geopy import distance\n",
    "from math import sqrt, floor\n",
    "import numpy as np\n",
    "import pandas as pd\n",
    "#import plotly.plotly as py\n",
    "import plotly.graph_objs as go\n",
    "import haversine"
   ]
  },
  {
   "cell_type": "code",
   "execution_count": 1,
   "metadata": {},
   "outputs": [],
   "source": [
    "import pandas as pd\n",
    "import re\n",
    "from bs4 import BeautifulSoup\n",
    "from collections import Counter, defaultdict\n",
    "from datetime import datetime\n",
    "import xml.etree.ElementTree as ET"
   ]
  },
  {
   "cell_type": "markdown",
   "metadata": {},
   "source": [
    "## Importing files"
   ]
  },
  {
   "cell_type": "code",
   "execution_count": 23,
   "metadata": {},
   "outputs": [],
   "source": [
    "with open(\"activity_5070523877.gpx\") as fp:\n",
    "    soup = BeautifulSoup(fp, \"html.parser\")"
   ]
  },
  {
   "cell_type": "code",
   "execution_count": 3,
   "metadata": {},
   "outputs": [],
   "source": [
    "#soup"
   ]
  },
  {
   "cell_type": "code",
   "execution_count": 4,
   "metadata": {},
   "outputs": [
    {
     "data": {
      "text/plain": [
       "'hiking'"
      ]
     },
     "execution_count": 4,
     "metadata": {},
     "output_type": "execute_result"
    }
   ],
   "source": [
    "soup.trk.find_all(\"type\")[0].get_text()"
   ]
  },
  {
   "cell_type": "code",
   "execution_count": 5,
   "metadata": {},
   "outputs": [
    {
     "data": {
      "text/plain": [
       "'Bear Peak and South Boulder Peak'"
      ]
     },
     "execution_count": 5,
     "metadata": {},
     "output_type": "execute_result"
    }
   ],
   "source": [
    "soup.trk.find_all(\"name\")[0].get_text()"
   ]
  },
  {
   "cell_type": "code",
   "execution_count": 6,
   "metadata": {},
   "outputs": [],
   "source": [
    "points = soup.find_all(\"trkpt\")"
   ]
  },
  {
   "cell_type": "code",
   "execution_count": 7,
   "metadata": {
    "scrolled": false
   },
   "outputs": [
    {
     "data": {
      "text/plain": [
       "6406"
      ]
     },
     "execution_count": 7,
     "metadata": {},
     "output_type": "execute_result"
    }
   ],
   "source": [
    "len(points)"
   ]
  },
  {
   "cell_type": "markdown",
   "metadata": {},
   "source": [
    "## Unpacking Latitude and Longitude"
   ]
  },
  {
   "cell_type": "code",
   "execution_count": 8,
   "metadata": {},
   "outputs": [
    {
     "data": {
      "text/plain": [
       "['__bool__',\n",
       " '__call__',\n",
       " '__class__',\n",
       " '__contains__',\n",
       " '__copy__',\n",
       " '__delattr__',\n",
       " '__delitem__',\n",
       " '__dict__',\n",
       " '__dir__',\n",
       " '__doc__',\n",
       " '__eq__',\n",
       " '__format__',\n",
       " '__ge__',\n",
       " '__getattr__',\n",
       " '__getattribute__',\n",
       " '__getitem__',\n",
       " '__gt__',\n",
       " '__hash__',\n",
       " '__init__',\n",
       " '__init_subclass__',\n",
       " '__iter__',\n",
       " '__le__',\n",
       " '__len__',\n",
       " '__lt__',\n",
       " '__module__',\n",
       " '__ne__',\n",
       " '__new__',\n",
       " '__reduce__',\n",
       " '__reduce_ex__',\n",
       " '__repr__',\n",
       " '__setattr__',\n",
       " '__setitem__',\n",
       " '__sizeof__',\n",
       " '__str__',\n",
       " '__subclasshook__',\n",
       " '__unicode__',\n",
       " '__weakref__',\n",
       " '_all_strings',\n",
       " '_find_all',\n",
       " '_find_one',\n",
       " '_is_xml',\n",
       " '_lastRecursiveChild',\n",
       " '_last_descendant',\n",
       " '_should_pretty_print',\n",
       " 'append',\n",
       " 'attrs',\n",
       " 'can_be_empty_element',\n",
       " 'cdata_list_attributes',\n",
       " 'childGenerator',\n",
       " 'children',\n",
       " 'clear',\n",
       " 'contents',\n",
       " 'decode',\n",
       " 'decode_contents',\n",
       " 'decompose',\n",
       " 'decomposed',\n",
       " 'descendants',\n",
       " 'encode',\n",
       " 'encode_contents',\n",
       " 'extend',\n",
       " 'extract',\n",
       " 'fetchNextSiblings',\n",
       " 'fetchParents',\n",
       " 'fetchPrevious',\n",
       " 'fetchPreviousSiblings',\n",
       " 'find',\n",
       " 'findAll',\n",
       " 'findAllNext',\n",
       " 'findAllPrevious',\n",
       " 'findChild',\n",
       " 'findChildren',\n",
       " 'findNext',\n",
       " 'findNextSibling',\n",
       " 'findNextSiblings',\n",
       " 'findParent',\n",
       " 'findParents',\n",
       " 'findPrevious',\n",
       " 'findPreviousSibling',\n",
       " 'findPreviousSiblings',\n",
       " 'find_all',\n",
       " 'find_all_next',\n",
       " 'find_all_previous',\n",
       " 'find_next',\n",
       " 'find_next_sibling',\n",
       " 'find_next_siblings',\n",
       " 'find_parent',\n",
       " 'find_parents',\n",
       " 'find_previous',\n",
       " 'find_previous_sibling',\n",
       " 'find_previous_siblings',\n",
       " 'format_string',\n",
       " 'formatter_for_name',\n",
       " 'get',\n",
       " 'getText',\n",
       " 'get_attribute_list',\n",
       " 'get_text',\n",
       " 'has_attr',\n",
       " 'has_key',\n",
       " 'hidden',\n",
       " 'index',\n",
       " 'insert',\n",
       " 'insert_after',\n",
       " 'insert_before',\n",
       " 'isSelfClosing',\n",
       " 'is_empty_element',\n",
       " 'known_xml',\n",
       " 'name',\n",
       " 'namespace',\n",
       " 'next',\n",
       " 'nextGenerator',\n",
       " 'nextSibling',\n",
       " 'nextSiblingGenerator',\n",
       " 'next_element',\n",
       " 'next_elements',\n",
       " 'next_sibling',\n",
       " 'next_siblings',\n",
       " 'parent',\n",
       " 'parentGenerator',\n",
       " 'parents',\n",
       " 'parserClass',\n",
       " 'parser_class',\n",
       " 'prefix',\n",
       " 'preserve_whitespace_tags',\n",
       " 'prettify',\n",
       " 'previous',\n",
       " 'previousGenerator',\n",
       " 'previousSibling',\n",
       " 'previousSiblingGenerator',\n",
       " 'previous_element',\n",
       " 'previous_elements',\n",
       " 'previous_sibling',\n",
       " 'previous_siblings',\n",
       " 'recursiveChildGenerator',\n",
       " 'renderContents',\n",
       " 'replaceWith',\n",
       " 'replaceWithChildren',\n",
       " 'replace_with',\n",
       " 'replace_with_children',\n",
       " 'select',\n",
       " 'select_one',\n",
       " 'setup',\n",
       " 'smooth',\n",
       " 'sourceline',\n",
       " 'sourcepos',\n",
       " 'string',\n",
       " 'strings',\n",
       " 'stripped_strings',\n",
       " 'text',\n",
       " 'unwrap',\n",
       " 'wrap']"
      ]
     },
     "execution_count": 8,
     "metadata": {},
     "output_type": "execute_result"
    }
   ],
   "source": [
    "dir(points[0])"
   ]
  },
  {
   "cell_type": "code",
   "execution_count": 9,
   "metadata": {},
   "outputs": [
    {
     "data": {
      "text/plain": [
       "<trkpt lat=\"39.94084543548524379730224609375\" lon=\"-105.26018234901130199432373046875\">\n",
       "<ele>1732.5999755859375</ele>\n",
       "<time>2020-06-07T12:11:16.000Z</time>\n",
       "<extensions>\n",
       "<ns3:trackpointextension>\n",
       "<ns3:atemp>23.0</ns3:atemp>\n",
       "<ns3:hr>131</ns3:hr>\n",
       "</ns3:trackpointextension>\n",
       "</extensions>\n",
       "</trkpt>"
      ]
     },
     "execution_count": 9,
     "metadata": {},
     "output_type": "execute_result"
    }
   ],
   "source": [
    "points[0]"
   ]
  },
  {
   "cell_type": "code",
   "execution_count": 10,
   "metadata": {},
   "outputs": [
    {
     "data": {
      "text/plain": [
       "{'lat': '39.94084543548524379730224609375',\n",
       " 'lon': '-105.26018234901130199432373046875'}"
      ]
     },
     "execution_count": 10,
     "metadata": {},
     "output_type": "execute_result"
    }
   ],
   "source": [
    "points[0].attrs"
   ]
  },
  {
   "cell_type": "code",
   "execution_count": 11,
   "metadata": {},
   "outputs": [
    {
     "data": {
      "text/plain": [
       "39.940845435485244"
      ]
     },
     "execution_count": 11,
     "metadata": {},
     "output_type": "execute_result"
    }
   ],
   "source": [
    "float(points[0].attrs['lat'])"
   ]
  },
  {
   "cell_type": "markdown",
   "metadata": {},
   "source": [
    "## Unpacking Elevation, HR, and Ambient Temp"
   ]
  },
  {
   "cell_type": "code",
   "execution_count": 12,
   "metadata": {},
   "outputs": [
    {
     "data": {
      "text/plain": [
       "5682.9279199218745"
      ]
     },
     "execution_count": 12,
     "metadata": {},
     "output_type": "execute_result"
    }
   ],
   "source": [
    "float(\n",
    "    points[0].ele.get_text()\n",
    ") * 3.28    #Elavation converted from meters to feet"
   ]
  },
  {
   "cell_type": "code",
   "execution_count": 13,
   "metadata": {},
   "outputs": [
    {
     "data": {
      "text/plain": [
       "131.0"
      ]
     },
     "execution_count": 13,
     "metadata": {},
     "output_type": "execute_result"
    }
   ],
   "source": [
    "float(\n",
    "    points[0].extensions.findChildren()[2].get_text()\n",
    ") #HR"
   ]
  },
  {
   "cell_type": "code",
   "execution_count": 14,
   "metadata": {},
   "outputs": [
    {
     "data": {
      "text/plain": [
       "23.0"
      ]
     },
     "execution_count": 14,
     "metadata": {},
     "output_type": "execute_result"
    }
   ],
   "source": [
    "float(\n",
    "    points[0].extensions.findChildren()[1].get_text()\n",
    ") #Ambient Temp"
   ]
  },
  {
   "cell_type": "markdown",
   "metadata": {},
   "source": [
    "## Unpacking Date Time"
   ]
  },
  {
   "cell_type": "code",
   "execution_count": 15,
   "metadata": {},
   "outputs": [
    {
     "data": {
      "text/plain": [
       "datetime.datetime(2020, 6, 7, 12, 11, 16)"
      ]
     },
     "execution_count": 15,
     "metadata": {},
     "output_type": "execute_result"
    }
   ],
   "source": [
    "date_format = \"%Y-%m-%dT%H:%M:%S.%fZ\" \n",
    "\n",
    "datetime.strptime(\n",
    "    points[0].time.get_text(),\n",
    "    date_format\n",
    ") #Datetime"
   ]
  },
  {
   "cell_type": "markdown",
   "metadata": {},
   "source": [
    "## Putting it all into a Pandas Dataframe"
   ]
  },
  {
   "cell_type": "code",
   "execution_count": 16,
   "metadata": {},
   "outputs": [],
   "source": [
    "lat = []\n",
    "lon = []\n",
    "ele = []\n",
    "time = []\n",
    "hr = []\n",
    "temp = []\n",
    "\n",
    "date_format = \"%Y-%m-%dT%H:%M:%S.%fZ\" \n",
    "\n",
    "for p in points:\n",
    "    lat.append(float(p.attrs['lat']))\n",
    "    lon.append(float(p.attrs['lat']))\n",
    "    ele.append(float(p.ele.get_text()) * 3.28) #3.28 is for converting feet to meters\n",
    "    time.append(datetime.strptime(p.time.get_text(), date_format))\n",
    "    hr.append(float([item.get_text() for item in p.findChildren()][5]))\n",
    "    temp.append(float([item.get_text() for item in p.findChildren()][4]))"
   ]
  },
  {
   "cell_type": "code",
   "execution_count": 19,
   "metadata": {
    "scrolled": true
   },
   "outputs": [
    {
     "name": "stdout",
     "output_type": "stream",
     "text": [
      "6406\n",
      "6406\n",
      "6406\n",
      "6406\n",
      "6406\n",
      "6406\n"
     ]
    }
   ],
   "source": [
    "print(len(lat))\n",
    "print(len(lon))\n",
    "print(len(ele))\n",
    "print(len(time))\n",
    "print(len(hr))\n",
    "print(len(temp))"
   ]
  },
  {
   "cell_type": "code",
   "execution_count": 20,
   "metadata": {},
   "outputs": [
    {
     "data": {
      "text/plain": [
       "datetime.timedelta(seconds=2520)"
      ]
     },
     "execution_count": 20,
     "metadata": {},
     "output_type": "execute_result"
    }
   ],
   "source": [
    "time[1000] - time[0]"
   ]
  },
  {
   "cell_type": "code",
   "execution_count": 21,
   "metadata": {},
   "outputs": [],
   "source": [
    "boulder_df = []\n",
    "boulder_df = pd.DataFrame(columns=['lon', 'lat', 'ele', 'time', 'hr', 'temp', 'time_elap', 'elev_gain', 'dist'])\n",
    "\n",
    "boulder_df.lon = lon\n",
    "boulder_df.lat = lat\n",
    "boulder_df.ele = ele\n",
    "boulder_df.time = time\n",
    "boulder_df.hr = hr\n",
    "boulder_df.temp = temp\n",
    "boulder_df.time_elap = boulder_df.time - boulder_df.time[0]\n",
    "#boulder_df.elev_gain = \n",
    "#boulder_df.dist = "
   ]
  },
  {
   "cell_type": "code",
   "execution_count": 22,
   "metadata": {},
   "outputs": [
    {
     "data": {
      "text/html": [
       "<div>\n",
       "<style scoped>\n",
       "    .dataframe tbody tr th:only-of-type {\n",
       "        vertical-align: middle;\n",
       "    }\n",
       "\n",
       "    .dataframe tbody tr th {\n",
       "        vertical-align: top;\n",
       "    }\n",
       "\n",
       "    .dataframe thead th {\n",
       "        text-align: right;\n",
       "    }\n",
       "</style>\n",
       "<table border=\"1\" class=\"dataframe\">\n",
       "  <thead>\n",
       "    <tr style=\"text-align: right;\">\n",
       "      <th></th>\n",
       "      <th>lon</th>\n",
       "      <th>lat</th>\n",
       "      <th>ele</th>\n",
       "      <th>time</th>\n",
       "      <th>hr</th>\n",
       "      <th>temp</th>\n",
       "      <th>time_elap</th>\n",
       "      <th>elev_gain</th>\n",
       "      <th>dist</th>\n",
       "    </tr>\n",
       "  </thead>\n",
       "  <tbody>\n",
       "    <tr>\n",
       "      <th>0</th>\n",
       "      <td>39.940845</td>\n",
       "      <td>39.940845</td>\n",
       "      <td>5682.92792</td>\n",
       "      <td>2020-06-07 12:11:16</td>\n",
       "      <td>131.0</td>\n",
       "      <td>23.0</td>\n",
       "      <td>00:00:00</td>\n",
       "      <td>NaN</td>\n",
       "      <td>NaN</td>\n",
       "    </tr>\n",
       "    <tr>\n",
       "      <th>1</th>\n",
       "      <td>39.940854</td>\n",
       "      <td>39.940854</td>\n",
       "      <td>5722.28792</td>\n",
       "      <td>2020-06-07 12:11:17</td>\n",
       "      <td>130.0</td>\n",
       "      <td>23.0</td>\n",
       "      <td>00:00:01</td>\n",
       "      <td>NaN</td>\n",
       "      <td>NaN</td>\n",
       "    </tr>\n",
       "    <tr>\n",
       "      <th>2</th>\n",
       "      <td>39.940865</td>\n",
       "      <td>39.940865</td>\n",
       "      <td>5740.65584</td>\n",
       "      <td>2020-06-07 12:11:18</td>\n",
       "      <td>131.0</td>\n",
       "      <td>23.0</td>\n",
       "      <td>00:00:02</td>\n",
       "      <td>NaN</td>\n",
       "      <td>NaN</td>\n",
       "    </tr>\n",
       "    <tr>\n",
       "      <th>3</th>\n",
       "      <td>39.940883</td>\n",
       "      <td>39.940883</td>\n",
       "      <td>5751.80792</td>\n",
       "      <td>2020-06-07 12:11:19</td>\n",
       "      <td>131.0</td>\n",
       "      <td>23.0</td>\n",
       "      <td>00:00:03</td>\n",
       "      <td>NaN</td>\n",
       "      <td>NaN</td>\n",
       "    </tr>\n",
       "    <tr>\n",
       "      <th>4</th>\n",
       "      <td>39.940905</td>\n",
       "      <td>39.940905</td>\n",
       "      <td>5756.40000</td>\n",
       "      <td>2020-06-07 12:11:20</td>\n",
       "      <td>131.0</td>\n",
       "      <td>22.0</td>\n",
       "      <td>00:00:04</td>\n",
       "      <td>NaN</td>\n",
       "      <td>NaN</td>\n",
       "    </tr>\n",
       "    <tr>\n",
       "      <th>...</th>\n",
       "      <td>...</td>\n",
       "      <td>...</td>\n",
       "      <td>...</td>\n",
       "      <td>...</td>\n",
       "      <td>...</td>\n",
       "      <td>...</td>\n",
       "      <td>...</td>\n",
       "      <td>...</td>\n",
       "      <td>...</td>\n",
       "    </tr>\n",
       "    <tr>\n",
       "      <th>6401</th>\n",
       "      <td>39.938618</td>\n",
       "      <td>39.938618</td>\n",
       "      <td>5772.80000</td>\n",
       "      <td>2020-06-07 16:36:35</td>\n",
       "      <td>107.0</td>\n",
       "      <td>33.0</td>\n",
       "      <td>04:25:19</td>\n",
       "      <td>NaN</td>\n",
       "      <td>NaN</td>\n",
       "    </tr>\n",
       "    <tr>\n",
       "      <th>6402</th>\n",
       "      <td>39.938625</td>\n",
       "      <td>39.938625</td>\n",
       "      <td>5773.45584</td>\n",
       "      <td>2020-06-07 16:36:39</td>\n",
       "      <td>108.0</td>\n",
       "      <td>33.0</td>\n",
       "      <td>04:25:23</td>\n",
       "      <td>NaN</td>\n",
       "      <td>NaN</td>\n",
       "    </tr>\n",
       "    <tr>\n",
       "      <th>6403</th>\n",
       "      <td>39.938627</td>\n",
       "      <td>39.938627</td>\n",
       "      <td>5773.45584</td>\n",
       "      <td>2020-06-07 16:36:40</td>\n",
       "      <td>114.0</td>\n",
       "      <td>33.0</td>\n",
       "      <td>04:25:24</td>\n",
       "      <td>NaN</td>\n",
       "      <td>NaN</td>\n",
       "    </tr>\n",
       "    <tr>\n",
       "      <th>6404</th>\n",
       "      <td>39.938635</td>\n",
       "      <td>39.938635</td>\n",
       "      <td>5775.42416</td>\n",
       "      <td>2020-06-07 16:36:42</td>\n",
       "      <td>119.0</td>\n",
       "      <td>33.0</td>\n",
       "      <td>04:25:26</td>\n",
       "      <td>NaN</td>\n",
       "      <td>NaN</td>\n",
       "    </tr>\n",
       "    <tr>\n",
       "      <th>6405</th>\n",
       "      <td>39.938642</td>\n",
       "      <td>39.938642</td>\n",
       "      <td>5775.42416</td>\n",
       "      <td>2020-06-07 16:36:44</td>\n",
       "      <td>123.0</td>\n",
       "      <td>33.0</td>\n",
       "      <td>04:25:28</td>\n",
       "      <td>NaN</td>\n",
       "      <td>NaN</td>\n",
       "    </tr>\n",
       "  </tbody>\n",
       "</table>\n",
       "<p>6406 rows × 9 columns</p>\n",
       "</div>"
      ],
      "text/plain": [
       "            lon        lat         ele                time     hr  temp  \\\n",
       "0     39.940845  39.940845  5682.92792 2020-06-07 12:11:16  131.0  23.0   \n",
       "1     39.940854  39.940854  5722.28792 2020-06-07 12:11:17  130.0  23.0   \n",
       "2     39.940865  39.940865  5740.65584 2020-06-07 12:11:18  131.0  23.0   \n",
       "3     39.940883  39.940883  5751.80792 2020-06-07 12:11:19  131.0  23.0   \n",
       "4     39.940905  39.940905  5756.40000 2020-06-07 12:11:20  131.0  22.0   \n",
       "...         ...        ...         ...                 ...    ...   ...   \n",
       "6401  39.938618  39.938618  5772.80000 2020-06-07 16:36:35  107.0  33.0   \n",
       "6402  39.938625  39.938625  5773.45584 2020-06-07 16:36:39  108.0  33.0   \n",
       "6403  39.938627  39.938627  5773.45584 2020-06-07 16:36:40  114.0  33.0   \n",
       "6404  39.938635  39.938635  5775.42416 2020-06-07 16:36:42  119.0  33.0   \n",
       "6405  39.938642  39.938642  5775.42416 2020-06-07 16:36:44  123.0  33.0   \n",
       "\n",
       "     time_elap elev_gain dist  \n",
       "0     00:00:00       NaN  NaN  \n",
       "1     00:00:01       NaN  NaN  \n",
       "2     00:00:02       NaN  NaN  \n",
       "3     00:00:03       NaN  NaN  \n",
       "4     00:00:04       NaN  NaN  \n",
       "...        ...       ...  ...  \n",
       "6401  04:25:19       NaN  NaN  \n",
       "6402  04:25:23       NaN  NaN  \n",
       "6403  04:25:24       NaN  NaN  \n",
       "6404  04:25:26       NaN  NaN  \n",
       "6405  04:25:28       NaN  NaN  \n",
       "\n",
       "[6406 rows x 9 columns]"
      ]
     },
     "execution_count": 22,
     "metadata": {},
     "output_type": "execute_result"
    }
   ],
   "source": [
    "boulder_df"
   ]
  },
  {
   "cell_type": "code",
   "execution_count": null,
   "metadata": {},
   "outputs": [],
   "source": []
  }
 ],
 "metadata": {
  "kernelspec": {
   "display_name": "Python 3",
   "language": "python",
   "name": "python3"
  },
  "language_info": {
   "codemirror_mode": {
    "name": "ipython",
    "version": 3
   },
   "file_extension": ".py",
   "mimetype": "text/x-python",
   "name": "python",
   "nbconvert_exporter": "python",
   "pygments_lexer": "ipython3",
   "version": "3.7.4"
  }
 },
 "nbformat": 4,
 "nbformat_minor": 4
}
